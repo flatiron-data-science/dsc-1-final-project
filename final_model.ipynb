{
 "cells": [
  {
   "cell_type": "code",
   "execution_count": 1,
   "metadata": {},
   "outputs": [],
   "source": [
    "import pandas as pd\n",
    "from matplotlib import pyplot as plt\n",
    "import seaborn as sns\n",
    "import numpy as np\n",
    "%matplotlib inline\n",
    "plt.style.use('seaborn')\n",
    "import statsmodels.api as sm\n",
    "from statsmodels.formula.api import ols\n",
    "from sklearn.model_selection import train_test_split"
   ]
  },
  {
   "cell_type": "code",
   "execution_count": 2,
   "metadata": {},
   "outputs": [],
   "source": [
    "\"\"\"One-stop function to test a model\"\"\"\n",
    "def feat_to_model_kfold_eval(target: str, predictors:list, df, kvals: list, show_summary=False, price_logged=False, MAE=False, return_items=True):\n",
    "    '''Returns:\n",
    "            -line vector of type array\n",
    "            -list of residuals of type array\n",
    "            -root mean squared error\n",
    "            -mean absolute error if activated\n",
    "            -dict of pvalues'''\n",
    "    \n",
    "    df = df[[target] + predictors]     # removing any features not included in model\n",
    "    \n",
    "    predictors_df = df.drop(target, axis=1)    \n",
    "    \n",
    "    f = \"+\".join(predictors_df.columns)    # This could be simplified to predictors instead predictors_df.columns but its the end of the day skip for now\n",
    "    f = target + \"~\" + f\n",
    "    model = ols(formula=f, data=df).fit()\n",
    "    if show_summary:\n",
    "        display(model.summary())\n",
    "    \n",
    "    y = df[target]\n",
    "    X = df.drop(target, axis=1)\n",
    "    \n",
    "    total_errs = np.array([])\n",
    "    k_vals = [5,10, 20]\n",
    "    for k in k_vals:\n",
    "        for train_index, test_index in KFold(n_splits=k).split(X):\n",
    "\n",
    "                X_train, X_test = X.iloc[train_index], X.iloc[test_index]\n",
    "                y_train, y_test = y.iloc[train_index], y.iloc[test_index]\n",
    "\n",
    "                linreg.fit(X_train, y_train)\n",
    "                y_hat = linreg.predict(X_test)\n",
    "                errs = y_test - y_hat\n",
    "                if price_logged:\n",
    "                    errs = np.exp(y_test) - np.exp(y_hat)\n",
    "\n",
    "                total_errs = np.concatenate((total_errs, errs))\n",
    "                \n",
    "                \n",
    "    linear_coefs = np.array(model.params)\n",
    "    \n",
    "    line = {'intercept': linear_coefs[0]}\n",
    "    for col, coef in zip(predictors, linear_coefs[1:]):\n",
    "        line[col] = coef\n",
    "    \n",
    "    pvals = model.pvalues.to_dict()\n",
    "    \n",
    "    rmse = np.sqrt(np.mean(total_errs**2))\n",
    "    \n",
    "    if MAE:\n",
    "        mae = abs(total_errs).mean()\n",
    "        print(\n",
    "             f'RMSE: {rmse}\\n'\n",
    "             f'MAE: {mae}\\n')\n",
    "        if not return_items:\n",
    "            return\n",
    "        return line, total_errs, rmse, mae, pvals\n",
    "    else:\n",
    "        print(\n",
    "             f'RMSE: {rmse}\\n')\n",
    "        if not return_items:\n",
    "            return\n",
    "        return line, total_errs, rmse, pvals"
   ]
  },
  {
   "cell_type": "code",
   "execution_count": 4,
   "metadata": {},
   "outputs": [],
   "source": [
    "\"\"\"data already partitioned 85-15, here's the training dataframe and the testing dataframe\"\"\"\n",
    "df = pd.read_csv('df_train.csv')\n",
    "df_holdout = pd.read_csv('df_holdout.csv')"
   ]
  },
  {
   "cell_type": "markdown",
   "metadata": {},
   "source": [
    "# CRISP DM"
   ]
  },
  {
   "cell_type": "markdown",
   "metadata": {},
   "source": [
    "## Data understanding"
   ]
  },
  {
   "cell_type": "code",
   "execution_count": null,
   "metadata": {},
   "outputs": [],
   "source": []
  }
 ],
 "metadata": {
  "kernelspec": {
   "display_name": "Python [conda env:root]",
   "language": "python",
   "name": "conda-root-py"
  },
  "language_info": {
   "codemirror_mode": {
    "name": "ipython",
    "version": 3
   },
   "file_extension": ".py",
   "mimetype": "text/x-python",
   "name": "python",
   "nbconvert_exporter": "python",
   "pygments_lexer": "ipython3",
   "version": "3.7.1"
  }
 },
 "nbformat": 4,
 "nbformat_minor": 2
}
