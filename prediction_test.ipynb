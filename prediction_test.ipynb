{
 "cells": [
  {
   "cell_type": "code",
   "execution_count": 37,
   "metadata": {},
   "outputs": [],
   "source": [
    "import pandas as pd\n",
    "import numpy as np\n",
    "from feat_to_model_eval import feat_to_model_kfold_eval\n",
    "from prediction import make_a_house, predict_home_price"
   ]
  },
  {
   "cell_type": "code",
   "execution_count": 38,
   "metadata": {},
   "outputs": [
    {
     "name": "stdout",
     "output_type": "stream",
     "text": [
      "The autoreload extension is already loaded. To reload it, use:\n",
      "  %reload_ext autoreload\n"
     ]
    }
   ],
   "source": [
    "%load_ext autoreload\n",
    "%autoreload 2"
   ]
  },
  {
   "cell_type": "code",
   "execution_count": 39,
   "metadata": {},
   "outputs": [],
   "source": [
    "df = pd.read_csv('kc_house_data.csv')"
   ]
  },
  {
   "cell_type": "code",
   "execution_count": 40,
   "metadata": {},
   "outputs": [],
   "source": [
    "df.loc[:, 'log_price'] = np.log(df.price)\n",
    "df.loc[:, 'log_sqft_living'] = np.log(df.sqft_living)\n",
    "df.loc[:, 'log_sqft_living15'] = np.log(df.sqft_living15)\n",
    "df.loc[:, 'log_grade'] = np.log(df.grade)"
   ]
  },
  {
   "cell_type": "code",
   "execution_count": 41,
   "metadata": {},
   "outputs": [
    {
     "data": {
      "text/html": [
       "<table class=\"simpletable\">\n",
       "<caption>OLS Regression Results</caption>\n",
       "<tr>\n",
       "  <th>Dep. Variable:</th>        <td>log_price</td>    <th>  R-squared:         </th> <td>   0.544</td> \n",
       "</tr>\n",
       "<tr>\n",
       "  <th>Model:</th>                   <td>OLS</td>       <th>  Adj. R-squared:    </th> <td>   0.543</td> \n",
       "</tr>\n",
       "<tr>\n",
       "  <th>Method:</th>             <td>Least Squares</td>  <th>  F-statistic:       </th> <td>   6429.</td> \n",
       "</tr>\n",
       "<tr>\n",
       "  <th>Date:</th>             <td>Fri, 19 Apr 2019</td> <th>  Prob (F-statistic):</th>  <td>  0.00</td>  \n",
       "</tr>\n",
       "<tr>\n",
       "  <th>Time:</th>                 <td>09:19:24</td>     <th>  Log-Likelihood:    </th> <td> -8322.4</td> \n",
       "</tr>\n",
       "<tr>\n",
       "  <th>No. Observations:</th>      <td> 21597</td>      <th>  AIC:               </th> <td>1.665e+04</td>\n",
       "</tr>\n",
       "<tr>\n",
       "  <th>Df Residuals:</th>          <td> 21592</td>      <th>  BIC:               </th> <td>1.669e+04</td>\n",
       "</tr>\n",
       "<tr>\n",
       "  <th>Df Model:</th>              <td>     4</td>      <th>                     </th>     <td> </td>    \n",
       "</tr>\n",
       "<tr>\n",
       "  <th>Covariance Type:</th>      <td>nonrobust</td>    <th>                     </th>     <td> </td>    \n",
       "</tr>\n",
       "</table>\n",
       "<table class=\"simpletable\">\n",
       "<tr>\n",
       "          <td></td>             <th>coef</th>     <th>std err</th>      <th>t</th>      <th>P>|t|</th>  <th>[0.025</th>    <th>0.975]</th>  \n",
       "</tr>\n",
       "<tr>\n",
       "  <th>Intercept</th>         <td>    6.0120</td> <td>    0.069</td> <td>   87.045</td> <td> 0.000</td> <td>    5.877</td> <td>    6.147</td>\n",
       "</tr>\n",
       "<tr>\n",
       "  <th>log_sqft_living</th>   <td>    0.3645</td> <td>    0.011</td> <td>   32.099</td> <td> 0.000</td> <td>    0.342</td> <td>    0.387</td>\n",
       "</tr>\n",
       "<tr>\n",
       "  <th>log_sqft_living15</th> <td>    0.1937</td> <td>    0.012</td> <td>   16.676</td> <td> 0.000</td> <td>    0.171</td> <td>    0.216</td>\n",
       "</tr>\n",
       "<tr>\n",
       "  <th>log_grade</th>         <td>    1.3987</td> <td>    0.026</td> <td>   53.715</td> <td> 0.000</td> <td>    1.348</td> <td>    1.450</td>\n",
       "</tr>\n",
       "<tr>\n",
       "  <th>bathrooms</th>         <td>   -0.0037</td> <td>    0.005</td> <td>   -0.730</td> <td> 0.465</td> <td>   -0.013</td> <td>    0.006</td>\n",
       "</tr>\n",
       "</table>\n",
       "<table class=\"simpletable\">\n",
       "<tr>\n",
       "  <th>Omnibus:</th>       <td>102.470</td> <th>  Durbin-Watson:     </th> <td>   1.973</td>\n",
       "</tr>\n",
       "<tr>\n",
       "  <th>Prob(Omnibus):</th> <td> 0.000</td>  <th>  Jarque-Bera (JB):  </th> <td> 101.962</td>\n",
       "</tr>\n",
       "<tr>\n",
       "  <th>Skew:</th>          <td> 0.157</td>  <th>  Prob(JB):          </th> <td>7.23e-23</td>\n",
       "</tr>\n",
       "<tr>\n",
       "  <th>Kurtosis:</th>      <td> 2.880</td>  <th>  Cond. No.          </th> <td>    319.</td>\n",
       "</tr>\n",
       "</table><br/><br/>Warnings:<br/>[1] Standard Errors assume that the covariance matrix of the errors is correctly specified."
      ],
      "text/plain": [
       "<class 'statsmodels.iolib.summary.Summary'>\n",
       "\"\"\"\n",
       "                            OLS Regression Results                            \n",
       "==============================================================================\n",
       "Dep. Variable:              log_price   R-squared:                       0.544\n",
       "Model:                            OLS   Adj. R-squared:                  0.543\n",
       "Method:                 Least Squares   F-statistic:                     6429.\n",
       "Date:                Fri, 19 Apr 2019   Prob (F-statistic):               0.00\n",
       "Time:                        09:19:24   Log-Likelihood:                -8322.4\n",
       "No. Observations:               21597   AIC:                         1.665e+04\n",
       "Df Residuals:                   21592   BIC:                         1.669e+04\n",
       "Df Model:                           4                                         \n",
       "Covariance Type:            nonrobust                                         \n",
       "=====================================================================================\n",
       "                        coef    std err          t      P>|t|      [0.025      0.975]\n",
       "-------------------------------------------------------------------------------------\n",
       "Intercept             6.0120      0.069     87.045      0.000       5.877       6.147\n",
       "log_sqft_living       0.3645      0.011     32.099      0.000       0.342       0.387\n",
       "log_sqft_living15     0.1937      0.012     16.676      0.000       0.171       0.216\n",
       "log_grade             1.3987      0.026     53.715      0.000       1.348       1.450\n",
       "bathrooms            -0.0037      0.005     -0.730      0.465      -0.013       0.006\n",
       "==============================================================================\n",
       "Omnibus:                      102.470   Durbin-Watson:                   1.973\n",
       "Prob(Omnibus):                  0.000   Jarque-Bera (JB):              101.962\n",
       "Skew:                           0.157   Prob(JB):                     7.23e-23\n",
       "Kurtosis:                       2.880   Cond. No.                         319.\n",
       "==============================================================================\n",
       "\n",
       "Warnings:\n",
       "[1] Standard Errors assume that the covariance matrix of the errors is correctly specified.\n",
       "\"\"\""
      ]
     },
     "metadata": {},
     "output_type": "display_data"
    },
    {
     "name": "stdout",
     "output_type": "stream",
     "text": [
      "Line: {'intercept': 6.0120305013125375, 'log_sqft_living': 0.36446610868315643, 'log_sqft_living15': 0.1936898190137566, 'log_grade': 1.3986987430645144, 'bathrooms': -0.0036523466526954262}\n",
      "RMSE: 256590.5119321821\n",
      "MAE: 153395.40562896797\n",
      "MAE DISPLAYED\n"
     ]
    }
   ],
   "source": [
    "line, resids, rmse, mae =  feat_to_model_kfold_eval('log_price', \n",
    "                                                    ['log_sqft_living', 'log_sqft_living15', 'log_grade', 'bathrooms'], \n",
    "                                                    df=df, kvals=[5,10], show_summary=True, \n",
    "                                                    price_logged=True, MAE=True)"
   ]
  },
  {
   "cell_type": "code",
   "execution_count": 42,
   "metadata": {},
   "outputs": [
    {
     "data": {
      "text/plain": [
       "{'intercept': 6.0120305013125375,\n",
       " 'log_sqft_living': 0.36446610868315643,\n",
       " 'log_sqft_living15': 0.1936898190137566,\n",
       " 'log_grade': 1.3986987430645144,\n",
       " 'bathrooms': -0.0036523466526954262}"
      ]
     },
     "execution_count": 42,
     "metadata": {},
     "output_type": "execute_result"
    }
   ],
   "source": [
    "line"
   ]
  },
  {
   "cell_type": "code",
   "execution_count": 43,
   "metadata": {},
   "outputs": [
    {
     "data": {
      "text/html": [
       "<div>\n",
       "<style scoped>\n",
       "    .dataframe tbody tr th:only-of-type {\n",
       "        vertical-align: middle;\n",
       "    }\n",
       "\n",
       "    .dataframe tbody tr th {\n",
       "        vertical-align: top;\n",
       "    }\n",
       "\n",
       "    .dataframe thead th {\n",
       "        text-align: right;\n",
       "    }\n",
       "</style>\n",
       "<table border=\"1\" class=\"dataframe\">\n",
       "  <thead>\n",
       "    <tr style=\"text-align: right;\">\n",
       "      <th></th>\n",
       "      <th>sqft_living</th>\n",
       "      <th>log_sqft_living</th>\n",
       "      <th>sqft_living15</th>\n",
       "      <th>log_sqft_living15</th>\n",
       "      <th>grade</th>\n",
       "      <th>log_grade</th>\n",
       "      <th>bathrooms</th>\n",
       "    </tr>\n",
       "  </thead>\n",
       "  <tbody>\n",
       "    <tr>\n",
       "      <th>test_home</th>\n",
       "      <td>1600.0</td>\n",
       "      <td>7.377759</td>\n",
       "      <td>2500.0</td>\n",
       "      <td>7.824046</td>\n",
       "      <td>9.0</td>\n",
       "      <td>2.197225</td>\n",
       "      <td>2.0</td>\n",
       "    </tr>\n",
       "  </tbody>\n",
       "</table>\n",
       "</div>"
      ],
      "text/plain": [
       "           sqft_living  log_sqft_living  sqft_living15  log_sqft_living15  \\\n",
       "test_home       1600.0         7.377759         2500.0           7.824046   \n",
       "\n",
       "           grade  log_grade  bathrooms  \n",
       "test_home    9.0   2.197225        2.0  "
      ]
     },
     "metadata": {},
     "output_type": "display_data"
    },
    {
     "data": {
      "text/plain": [
       "13.28236219844014"
      ]
     },
     "execution_count": 43,
     "metadata": {},
     "output_type": "execute_result"
    }
   ],
   "source": [
    "predict_home_price(line, sqft_living=1600, sqft_living15=2500, grade=9, bathrooms=2)"
   ]
  },
  {
   "cell_type": "code",
   "execution_count": null,
   "metadata": {},
   "outputs": [],
   "source": [
    "# IT WORKS HALLELUUJAAHH!!!!"
   ]
  },
  {
   "cell_type": "code",
   "execution_count": null,
   "metadata": {},
   "outputs": [],
   "source": []
  }
 ],
 "metadata": {
  "kernelspec": {
   "display_name": "Python [conda env:root]",
   "language": "python",
   "name": "conda-root-py"
  },
  "language_info": {
   "codemirror_mode": {
    "name": "ipython",
    "version": 3
   },
   "file_extension": ".py",
   "mimetype": "text/x-python",
   "name": "python",
   "nbconvert_exporter": "python",
   "pygments_lexer": "ipython3",
   "version": "3.7.1"
  }
 },
 "nbformat": 4,
 "nbformat_minor": 2
}
